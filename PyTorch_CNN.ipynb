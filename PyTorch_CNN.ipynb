{
  "cells": [
    {
      "cell_type": "markdown",
      "metadata": {
        "id": "k5E-3ERJpjHj"
      },
      "source": [
        "# Setup Environment\n",
        "\n",
        "If you are working on this assignment using Google Colab, please execute the codes below."
      ]
    },
    {
      "cell_type": "code",
      "execution_count": 2,
      "metadata": {
        "colab": {
          "base_uri": "https://localhost:8080/"
        },
        "id": "fDF4Q4nnpjHm",
        "outputId": "06e9643e-f432-4c92-99b8-90a537bc57ac"
      },
      "outputs": [
        {
          "output_type": "stream",
          "name": "stdout",
          "text": [
            "Drive already mounted at /content/gdrive; to attempt to forcibly remount, call drive.mount(\"/content/gdrive\", force_remount=True).\n"
          ]
        }
      ],
      "source": [
        "#@title Mount your Google Drive\n",
        "import os\n",
        "from google.colab import drive\n",
        "drive.mount('/content/gdrive')"
      ]
    },
    {
      "cell_type": "code",
      "execution_count": 3,
      "metadata": {
        "id": "70gkC4XapjHo"
      },
      "outputs": [],
      "source": [
        "#@title Set up mount symlink\n",
        "\n",
        "DRIVE_PATH = '/content/gdrive/My\\ Drive/Pytorsh-CNN'\n",
        "DRIVE_PYTHON_PATH = DRIVE_PATH.replace('\\\\', '')\n",
        "if not os.path.exists(DRIVE_PYTHON_PATH):\n",
        "  %mkdir $DRIVE_PATH\n",
        "\n",
        "## the space in `My Drive` causes some issues,\n",
        "## make a symlink to avoid this\n",
        "SYM_PATH = '/content/Pytorsh-CNN'\n",
        "if not os.path.exists(SYM_PATH):\n",
        "  !ln -s $DRIVE_PATH $SYM_PATH"
      ]
    },
    {
      "cell_type": "code",
      "execution_count": 4,
      "metadata": {
        "colab": {
          "base_uri": "https://localhost:8080/"
        },
        "id": "xsRSwWw3pjHo",
        "outputId": "c042cd40-373a-4356-d710-2b929fdbd8ef"
      },
      "outputs": [
        {
          "output_type": "stream",
          "name": "stdout",
          "text": [
            "Requirement already satisfied: numpy==1.21.6 in /usr/local/lib/python3.10/dist-packages (1.21.6)\n",
            "Requirement already satisfied: imageio==2.9.0 in /usr/local/lib/python3.10/dist-packages (2.9.0)\n",
            "Requirement already satisfied: matplotlib==3.2.2 in /usr/local/lib/python3.10/dist-packages (3.2.2)\n",
            "Requirement already satisfied: pillow in /usr/local/lib/python3.10/dist-packages (from imageio==2.9.0) (11.0.0)\n",
            "Requirement already satisfied: cycler>=0.10 in /usr/local/lib/python3.10/dist-packages (from matplotlib==3.2.2) (0.12.1)\n",
            "Requirement already satisfied: kiwisolver>=1.0.1 in /usr/local/lib/python3.10/dist-packages (from matplotlib==3.2.2) (1.4.7)\n",
            "Requirement already satisfied: pyparsing!=2.0.4,!=2.1.2,!=2.1.6,>=2.0.1 in /usr/local/lib/python3.10/dist-packages (from matplotlib==3.2.2) (3.2.0)\n",
            "Requirement already satisfied: python-dateutil>=2.1 in /usr/local/lib/python3.10/dist-packages (from matplotlib==3.2.2) (2.8.2)\n",
            "Requirement already satisfied: six>=1.5 in /usr/local/lib/python3.10/dist-packages (from python-dateutil>=2.1->matplotlib==3.2.2) (1.17.0)\n"
          ]
        }
      ],
      "source": [
        "#@title Install dependencies\n",
        "\n",
        "!pip install numpy==1.21.6 imageio==2.9.0 matplotlib==3.2.2"
      ]
    },
    {
      "cell_type": "code",
      "execution_count": 5,
      "metadata": {
        "colab": {
          "base_uri": "https://localhost:8080/"
        },
        "id": "03zMODLepjHp",
        "outputId": "fd38620a-2327-4bcb-bae7-2cb89b1ca321"
      },
      "outputs": [
        {
          "output_type": "stream",
          "name": "stdout",
          "text": [
            "/content/gdrive/My Drive/Pytorsh-CNN\n",
            "/content/gdrive/My Drive/Pytorsh-CNN/Pytorsh-CNN\n"
          ]
        }
      ],
      "source": [
        "#@title Clone homework repo\n",
        "\n",
        "%cd $SYM_PATH\n",
        "if not os.path.exists(\"Pytorsh-CNN\"):\n",
        "  !git clone https://github.com/fadibenz/Pytorsh-CNN.git\n",
        "%cd Pytorsh-CNN"
      ]
    },
    {
      "cell_type": "code",
      "execution_count": 6,
      "metadata": {
        "id": "aE3DxNYupjHp"
      },
      "outputs": [],
      "source": [
        "#@title Configure Jupyter Notebook\n",
        "\n",
        "import matplotlib\n",
        "%matplotlib inline\n",
        "%load_ext autoreload\n",
        "%autoreload 2"
      ]
    },
    {
      "cell_type": "markdown",
      "metadata": {
        "id": "_UxcjyMQpjHp"
      },
      "source": [
        "# Train Convolutional Neural Networks using PyTorch\n"
      ]
    },
    {
      "cell_type": "code",
      "execution_count": 7,
      "metadata": {
        "id": "7RVNc9KGpjHq"
      },
      "outputs": [],
      "source": [
        "import os\n",
        "import json\n",
        "import numpy as np\n",
        "import torch\n",
        "import torch.nn as nn\n",
        "import torch.nn.functional as F\n",
        "import torch.utils as utils # has .data.Dataset and .data.DataLoader\n",
        "import torch.optim as optim\n",
        "import torchvision\n",
        "from torchvision import datasets, transforms\n",
        "import matplotlib.pyplot as plt\n",
        "\n",
        "os.makedirs(\"submission_logs\", exist_ok=True)"
      ]
    },
    {
      "cell_type": "code",
      "execution_count": 8,
      "metadata": {
        "colab": {
          "base_uri": "https://localhost:8080/"
        },
        "id": "YAbWHSFBpjHq",
        "outputId": "b8fdb3ba-4455-4c36-b9bd-ef0104d5722f"
      },
      "outputs": [
        {
          "output_type": "execute_result",
          "data": {
            "text/plain": [
              "True"
            ]
          },
          "metadata": {},
          "execution_count": 8
        }
      ],
      "source": [
        "torch.cuda.is_available()\n",
        "# make sure GPU is enabled"
      ]
    },
    {
      "cell_type": "code",
      "execution_count": 10,
      "metadata": {
        "id": "VlR-vQyZpjHr"
      },
      "outputs": [],
      "source": [
        "seed = 227"
      ]
    },
    {
      "cell_type": "markdown",
      "metadata": {
        "id": "z4wPezL2pjHr"
      },
      "source": [
        "## Load and Visualize Data\n",
        "In this cell, we load and visualize the CIFAR100 dataset. Note that we apply data augmentation (random horizontal flip) to the training dataset:\n",
        "```pythontransforms.RandomHorizontalFlip()```\n",
        "Data augmentation is a popular technique in machine learning and computer vision that involves generating additional training data to improve the performance of a model. One common form of data augmentation for image data is random horizontal flipping, which involves flipping an image horizontally with a 50% chance during training. This technique is often used to increase the variability of the training data and to help the model generalize better to new, unseen images. By randomly flipping images, the model is exposed to a wider range of orientations and can better learn to recognize features that are invariant to horizontal flipping."
      ]
    },
    {
      "cell_type": "code",
      "execution_count": 11,
      "metadata": {
        "colab": {
          "base_uri": "https://localhost:8080/"
        },
        "id": "YeI6GfGmpjHr",
        "outputId": "cc27d5eb-7d0c-4fd5-f953-b82c62e1aba5"
      },
      "outputs": [
        {
          "output_type": "stream",
          "name": "stdout",
          "text": [
            "Files already downloaded and verified\n",
            "Files already downloaded and verified\n"
          ]
        }
      ],
      "source": [
        "valid_test_transform = transforms.Compose(\n",
        "    [\n",
        "        transforms.ToTensor(),   # convert image to PyTorch Tensor\n",
        "        transforms.Normalize((0.5, 0.5, 0.5), (0.5, 0.5, 0.5))\n",
        "        # normalize to [-1.0, 1.0] (originally [0.0, 1.0]),\n",
        "        # we are essentially doing min-max normalization, this helps\n",
        "        # with guaranteeing symmetry of the input which helps with relu elbows\n",
        "    ]\n",
        ")\n",
        "\n",
        "train_transform = transforms.Compose(\n",
        "    [\n",
        "        transforms.ToTensor(),\n",
        "        transforms.Normalize((0.5, 0.5, 0.5), (0.5, 0.5, 0.5)),\n",
        "        transforms.RandomHorizontalFlip(),# data augmentation\n",
        "    ]\n",
        ")\n",
        "\n",
        "# Download training data from open datasets.\n",
        "training_data = datasets.CIFAR100(\n",
        "    root=\"./data\",\n",
        "    train=True,\n",
        "    download=True,\n",
        "    transform=train_transform,\n",
        ")\n",
        "\n",
        "# Download test data from open datasets.\n",
        "valid_test_data = datasets.CIFAR100(\n",
        "    root=\"data\",\n",
        "    train=False,\n",
        "    download=True,\n",
        "    transform=valid_test_transform,\n",
        ")\n",
        "\n",
        "# split original test data to valid data and test data,\n",
        "# turn into list since splitting is not supported by Pytorch's Dataset\n",
        "valid_data = list(valid_test_data)[::2]\n",
        "test_data = list(valid_test_data)[1::2]\n",
        "\n",
        "classes = [\n",
        "    \"apple\",\n",
        "    \"aquarium_fish\",\n",
        "    \"baby\",\n",
        "    \"bear\",\n",
        "    \"beaver\",\n",
        "    \"bed\",\n",
        "    \"bee\",\n",
        "    \"beetle\",\n",
        "    \"bicycle\",\n",
        "    \"bottle\",\n",
        "    \"bowl\",\n",
        "    \"boy\",\n",
        "    \"bridge\",\n",
        "    \"bus\",\n",
        "    \"butterfly\",\n",
        "    \"camel\",\n",
        "    \"can\",\n",
        "    \"castle\",\n",
        "    \"caterpillar\",\n",
        "    \"cattle\",\n",
        "    \"chair\",\n",
        "    \"chimpanzee\",\n",
        "    \"clock\",\n",
        "    \"cloud\",\n",
        "    \"cockroach\",\n",
        "    \"couch\",\n",
        "    \"cra\",\n",
        "    \"crocodile\",\n",
        "    \"cup\",\n",
        "    \"dinosaur\",\n",
        "    \"dolphin\",\n",
        "    \"elephant\",\n",
        "    \"flatfish\",\n",
        "    \"forest\",\n",
        "    \"fox\",\n",
        "    \"girl\",\n",
        "    \"hamster\",\n",
        "    \"house\",\n",
        "    \"kangaroo\",\n",
        "    \"keyboard\",\n",
        "    \"lamp\",\n",
        "    \"lawn_mower\",\n",
        "    \"leopard\",\n",
        "    \"lion\",\n",
        "    \"lizard\",\n",
        "    \"lobster\",\n",
        "    \"man\",\n",
        "    \"maple_tree\",\n",
        "    \"motorcycle\",\n",
        "    \"mountain\",\n",
        "    \"mouse\",\n",
        "    \"mushroom\",\n",
        "    \"oak_tree\",\n",
        "    \"orange\",\n",
        "    \"orchid\",\n",
        "    \"otter\",\n",
        "    \"palm_tree\",\n",
        "    \"pear\",\n",
        "    \"pickup_truck\",\n",
        "    \"pine_tree\",\n",
        "    \"plain\",\n",
        "    \"plate\",\n",
        "    \"poppy\",\n",
        "    \"porcupine\",\n",
        "    \"possum\",\n",
        "    \"rabbit\",\n",
        "    \"raccoon\",\n",
        "    \"ray\",\n",
        "    \"road\",\n",
        "    \"rocket\",\n",
        "    \"rose\",\n",
        "    \"sea\",\n",
        "    \"seal\",\n",
        "    \"shark\",\n",
        "    \"shrew\",\n",
        "    \"skunk\",\n",
        "    \"skyscraper\",\n",
        "    \"snail\",\n",
        "    \"snake\",\n",
        "    \"spider\",\n",
        "    \"squirrel\",\n",
        "    \"streetcar\",\n",
        "    \"sunflower\",\n",
        "    \"sweet_pepper\",\n",
        "    \"table\",\n",
        "    \"tank\",\n",
        "    \"telephone\",\n",
        "    \"television\",\n",
        "    \"tiger\",\n",
        "    \"tractor\",\n",
        "    \"train\",\n",
        "    \"trout\",\n",
        "    \"tulip\",\n",
        "    \"turtle\",\n",
        "    \"wardrobe\",\n",
        "    \"whale\",\n",
        "    \"willow_tree\",\n",
        "    \"wolf\",\n",
        "    \"woman\",\n",
        "    \"worm\",\n",
        "]"
      ]
    },
    {
      "cell_type": "code",
      "execution_count": 12,
      "metadata": {
        "colab": {
          "base_uri": "https://localhost:8080/"
        },
        "id": "W5X6ugvopjHs",
        "outputId": "9a5c0c9c-54dc-4b6c-eaa2-6b6f5928c6fd"
      },
      "outputs": [
        {
          "output_type": "stream",
          "name": "stdout",
          "text": [
            "Shape of X [N, C, H, W]: torch.Size([5, 3, 32, 32])\n",
            "Shape of y: torch.Size([5]) torch.int64\n"
          ]
        }
      ],
      "source": [
        "# Create data loaders.\n",
        "train_dataloader = utils.data.DataLoader(training_data, batch_size= 64, shuffle=True)\n",
        "valid_dataloader = utils.data.DataLoader(valid_data, batch_size=5, shuffle=True)\n",
        "\n",
        "for X, y in valid_dataloader:\n",
        "    print(f\"Shape of X [N, C, H, W]: {X.shape}\")\n",
        "    print(f\"Shape of y: {y.shape} {y.dtype}\")\n",
        "    break"
      ]
    },
    {
      "cell_type": "markdown",
      "metadata": {
        "id": "U6Vp8H54pjHs"
      },
      "source": [
        "Here is a visualization of 5 images in the validation dataset:"
      ]
    },
    {
      "cell_type": "code",
      "execution_count": null,
      "metadata": {
        "colab": {
          "base_uri": "https://localhost:8080/",
          "height": 185
        },
        "id": "k_dh77hYpjHt",
        "outputId": "db3c1cee-3c3c-4374-8728-9ffb72218411"
      },
      "outputs": [
        {
          "data": {
            "image/png": "[encoded data removed]",
            "text/plain": [
              "<Figure size 640x480 with 1 Axes>"
            ]
          },
          "metadata": {},
          "output_type": "display_data"
        },
        {
          "name": "stdout",
          "output_type": "stream",
          "text": [
            "mountain   seal    sea     camel   cloud\n"
          ]
        }
      ],
      "source": [
        "# functions to show an image\n",
        "# My implementation following the Pytorsh Tutorial\n",
        "# figure = plt.figure(figsize=(8, 8))\n",
        "# cols, rows = 2, 2\n",
        "\n",
        "# for i in range (1, cols * rows +  1):\n",
        "#   sample_idx = torch.randint(len(training_data), size=(1,)).item()\n",
        "#   img, label = training_data[sample_idx]\n",
        "#   figure.add_subplot(cols, rows, i)\n",
        "#   img = img / 2 + 0.5 # Change from [-1,1] back to [0,1].\n",
        "#   plt.title(classes[label])\n",
        "#   plt.axis('off')\n",
        "\n",
        "#   # imshow expects (H, W ,C)\n",
        "#   plt.imshow(img.permute(1, 2, 0))\n",
        "# plt.show()\n",
        "\n",
        "\n",
        "# functions to show an image (Starter Code)\n",
        "\n",
        "def imshow(img):\n",
        "    img = img / 2 + 0.5     # unnormalize\n",
        "    npimg = img.numpy()\n",
        "    plt.imshow(np.transpose(npimg, (1, 2, 0)))\n",
        "    plt.show()\n",
        "\n",
        "\n",
        "# get some random training images\n",
        "dataiter = iter(valid_dataloader)\n",
        "images, labels = next(dataiter)\n",
        "\n",
        "# show images\n",
        "imshow(torchvision.utils.make_grid(images))\n",
        "# print labels\n",
        "print('   '.join(f'{classes[labels[j]]:5s}' for j in range(5)))"
      ]
    },
    {
      "cell_type": "markdown",
      "metadata": {
        "id": "9wnVZs2apjHt"
      },
      "source": [
        "## Define the Neural Network Architecture\n",
        "\n",
        "**Complete the code in `dl_pytorch/model.py`** to finish the implementation of a convolutional neural network with batch normalization and dropout."
      ]
    },
    {
      "cell_type": "code",
      "execution_count": 13,
      "metadata": {
        "colab": {
          "base_uri": "https://localhost:8080/"
        },
        "id": "Us2L7PEGpjHt",
        "outputId": "4e113725-6535-439c-a1cd-38b3fe48dec8"
      },
      "outputs": [
        {
          "output_type": "stream",
          "name": "stdout",
          "text": [
            "NeuralNetwork(\n",
            "  (conv1): Conv2d(3, 16, kernel_size=(3, 3), stride=(1, 1), padding=(1, 1))\n",
            "  (relu1): ReLU()\n",
            "  (pool1): MaxPool2d(kernel_size=2, stride=2, padding=0, dilation=1, ceil_mode=False)\n",
            "  (conv2): Conv2d(16, 32, kernel_size=(3, 3), stride=(1, 1), padding=(1, 1))\n",
            "  (relu2): ReLU()\n",
            "  (pool2): MaxPool2d(kernel_size=2, stride=2, padding=0, dilation=1, ceil_mode=False)\n",
            "  (conv3): Conv2d(32, 64, kernel_size=(3, 3), stride=(2, 2), padding=(1, 1))\n",
            "  (relu3): ReLU()\n",
            "  (fc1): Linear(in_features=1024, out_features=256, bias=True)\n",
            "  (relu4): ReLU()\n",
            "  (fc2): Linear(in_features=256, out_features=100, bias=True)\n",
            ")\n"
          ]
        }
      ],
      "source": [
        "from dl_pytorch.model import NeuralNetwork\n",
        "\n",
        "model = NeuralNetwork()\n",
        "print(model)\n",
        "\n",
        "assert len(model.state_dict()) == 10\n",
        "assert model.conv1.weight.shape == torch.Size([16, 3, 3, 3])\n",
        "assert model.conv1.bias.shape == torch.Size([16])\n",
        "assert model.conv2.weight.shape == torch.Size([32, 16, 3, 3])\n",
        "assert model.conv2.bias.shape == torch.Size([32])\n",
        "assert model.conv3.weight.shape == torch.Size([64, 32, 3, 3])\n",
        "assert model.conv3.bias.shape == torch.Size([64])\n",
        "assert model.fc1.weight.shape == torch.Size([256, 1024])\n",
        "assert model.fc1.bias.shape == torch.Size([256])\n",
        "assert model.fc2.weight.shape == torch.Size([100, 256])\n",
        "assert model.fc2.bias.shape == torch.Size([100])\n",
        "assert model(torch.randn(9, 3, 32, 32)).shape == torch.Size([9, 100])\n",
        "\n",
        "model = NeuralNetwork(do_batchnorm=True, p_dropout=0.1)\n",
        "assert len(model.state_dict()) == 25\n",
        "assert model.bn1.weight.shape == model.bn1.bias.shape == torch.Size([16])\n",
        "assert model.bn2.weight.shape == model.bn2.bias.shape == torch.Size([32])\n",
        "assert model.bn3.weight.shape == model.bn3.bias.shape == torch.Size([64])\n",
        "assert model(torch.randn(11, 3, 32, 32)).shape == torch.Size([11, 100])"
      ]
    },
    {
      "cell_type": "markdown",
      "metadata": {
        "id": "aO83vd3kpjHu"
      },
      "source": [
        "## Train the Neural Network\n",
        "\n",
        "Complete the code cells below to train your neural network."
      ]
    },
    {
      "cell_type": "code",
      "execution_count": 14,
      "metadata": {
        "id": "8CBlHTs-pjHu"
      },
      "outputs": [],
      "source": [
        "def train(dataloader, model, loss_fn, optimizer):\n",
        "    size = len(dataloader.dataset)\n",
        "    model.train()\n",
        "    for batch, (X, y) in enumerate(dataloader):\n",
        "        X, y = X.cuda(), y.cuda()\n",
        "\n",
        "        pred = model(X)\n",
        "        loss = loss_fn(pred, y)\n",
        "        optimizer.zero_grad()\n",
        "        loss.backward()\n",
        "        optimizer.step()\n",
        "\n",
        "        if batch % 100 == 0:\n",
        "            loss, current = loss.item(), batch * len(X)\n",
        "            print(f\"loss: {loss:>7f}  [{current:>5d}/{size:>5d}]\")"
      ]
    },
    {
      "cell_type": "code",
      "execution_count": 15,
      "metadata": {
        "id": "qGs0O5gmpjHu"
      },
      "outputs": [],
      "source": [
        "def test(dataloader, model, loss_fn):\n",
        "    size = len(dataloader.dataset)\n",
        "    num_batches = len(dataloader)\n",
        "    model.eval()\n",
        "    test_loss, correct = 0, 0\n",
        "    with torch.no_grad():\n",
        "        for X, y in dataloader:\n",
        "            X, y = X.cuda(), y.cuda()\n",
        "            pred = model(X)\n",
        "            test_loss += loss_fn(pred, y).item()\n",
        "            correct += (pred.argmax(1) == y).type(torch.float).sum().item()\n",
        "    test_loss /= num_batches\n",
        "    correct /= size\n",
        "    print(f\"Evaluation Error: \\n Accuracy: {(100*correct):>0.1f}%, Avg loss: {test_loss:>8f} \\n\")\n",
        "    return 100*correct"
      ]
    },
    {
      "cell_type": "code",
      "execution_count": 16,
      "metadata": {
        "id": "NHZQ1IGQpjHu"
      },
      "outputs": [],
      "source": [
        "def get_optimizer(params, optim_type, lr, momentum, lr_decay, l2_reg):\n",
        "    if optim_type == \"sgd\":\n",
        "        optimizer = optim.SGD(params, lr=lr, momentum=0.0, weight_decay=l2_reg)\n",
        "    elif optim_type == \"sgd_momentum\":\n",
        "        optimizer = optim.SGD(params, lr=lr, momentum=momentum,\n",
        "                              weight_decay=l2_reg)\n",
        "    elif optim_type == \"adam\":\n",
        "        optimizer = optim.AdamW(params, lr=lr, betas=(momentum, 0.999),\n",
        "                                weight_decay=l2_reg)\n",
        "    else:\n",
        "        raise ValueError(optim_type)\n",
        "    scheduler = optim.lr_scheduler.ExponentialLR(optimizer, lr_decay)\n",
        "    return optimizer, scheduler"
      ]
    },
    {
      "cell_type": "markdown",
      "metadata": {
        "id": "SQwcinGOpjHu"
      },
      "source": [
        "Train the neural network. It should achieve at least 35% accuracy on the test set."
      ]
    },
    {
      "cell_type": "code",
      "execution_count": 17,
      "metadata": {
        "id": "8yRZp-OppjHv"
      },
      "outputs": [],
      "source": [
        "def run_training(hp, nn_cls, save_prefix):\n",
        "    print(\"Hyperparameters:\", hp)\n",
        "    torch.manual_seed(seed)\n",
        "    torch.cuda.manual_seed(seed)\n",
        "    np.random.seed(seed)\n",
        "\n",
        "    model = nn_cls(do_batchnorm=hp.do_batchnorm, p_dropout=hp.p_dropout).cuda()\n",
        "\n",
        "    # Create data loaders.\n",
        "    train_dataloader = utils.data.DataLoader(\n",
        "        training_data, batch_size=hp.batch_size)\n",
        "    valid_dataloader = utils.data.DataLoader(\n",
        "        valid_data, batch_size=hp.batch_size)\n",
        "\n",
        "    loss_fn = nn.CrossEntropyLoss()\n",
        "    optimizer, scheduler = get_optimizer(\n",
        "        model.parameters(), hp.optim_type, hp.lr, hp.momentum, hp.lr_decay,\n",
        "        hp.l2_reg)\n",
        "\n",
        "    for t in range(hp.epochs):\n",
        "        print(f\"Epoch {t+1}\\n-------------------------------\")\n",
        "        train(train_dataloader, model, loss_fn, optimizer)\n",
        "        test(valid_dataloader, model, loss_fn)\n",
        "        scheduler.step()\n",
        "\n",
        "    print(f\"Saving the model to submission_logs/{save_prefix}.pt\")\n",
        "    torch.save(model.state_dict(), f\"submission_logs/{save_prefix}.pt\")\n",
        "    return model\n",
        "\n",
        "def eval_on_test(hp, model, save_prefix):\n",
        "    train_dataloader = utils.data.DataLoader(\n",
        "        training_data, batch_size=hp.batch_size)\n",
        "    test_dataloader = utils.data.DataLoader(\n",
        "        test_data, batch_size=hp.batch_size)\n",
        "    loss_fn = nn.CrossEntropyLoss()\n",
        "    print(\"Evaluating on the test set\")\n",
        "    test_acc = test(test_dataloader, model, loss_fn)\n",
        "    n_params = sum(p.numel() for p in model.parameters())\n",
        "    print(\"Parameter count: {}\".format(n_params))\n",
        "    n_steps = len(train_dataloader) * hp.epochs\n",
        "    print(\"Training steps: {}\".format(n_steps))\n",
        "    with open(f\"submission_logs/{save_prefix}.json\", \"w\", encoding=\"utf-8\") as f:\n",
        "        json.dump({\n",
        "            \"test_acc\": test_acc,\n",
        "            \"hparams\": hp.__dict__,\n",
        "            \"n_params\": n_params,\n",
        "            \"n_steps\": n_steps\n",
        "        }, f)"
      ]
    },
    {
      "cell_type": "code",
      "execution_count": 43,
      "metadata": {
        "colab": {
          "base_uri": "https://localhost:8080/"
        },
        "id": "C2WYhpODpjHv",
        "outputId": "3a3c985f-846e-4474-ecb5-399890b44a3f"
      },
      "outputs": [
        {
          "output_type": "stream",
          "name": "stdout",
          "text": [
            "Hyperparameters: Namespace(batch_size=32, lr=0.001, momentum=0.9, lr_decay=0.99, optim_type='adam', l2_reg=0.0, epochs=5, do_batchnorm=False, p_dropout=0.0)\n",
            "Epoch 1\n",
            "-------------------------------\n",
            "loss: 4.607782  [    0/50000]\n",
            "loss: 4.329588  [ 3200/50000]\n",
            "loss: 4.099283  [ 6400/50000]\n",
            "loss: 3.816479  [ 9600/50000]\n",
            "loss: 3.841524  [12800/50000]\n",
            "loss: 4.398440  [16000/50000]\n",
            "loss: 3.298751  [19200/50000]\n",
            "loss: 3.986940  [22400/50000]\n",
            "loss: 3.329582  [25600/50000]\n",
            "loss: 3.682697  [28800/50000]\n",
            "loss: 3.240136  [32000/50000]\n",
            "loss: 3.477612  [35200/50000]\n",
            "loss: 3.280922  [38400/50000]\n",
            "loss: 3.441875  [41600/50000]\n",
            "loss: 2.650690  [44800/50000]\n",
            "loss: 3.187408  [48000/50000]\n",
            "Evaluation Error: \n",
            " Accuracy: 23.5%, Avg loss: 3.133029 \n",
            "\n",
            "Epoch 2\n",
            "-------------------------------\n",
            "loss: 3.151052  [    0/50000]\n",
            "loss: 3.414325  [ 3200/50000]\n",
            "loss: 3.368143  [ 6400/50000]\n",
            "loss: 3.024598  [ 9600/50000]\n",
            "loss: 2.797662  [12800/50000]\n",
            "loss: 3.511456  [16000/50000]\n",
            "loss: 2.800680  [19200/50000]\n",
            "loss: 3.430162  [22400/50000]\n",
            "loss: 2.873113  [25600/50000]\n",
            "loss: 3.144115  [28800/50000]\n",
            "loss: 2.776838  [32000/50000]\n",
            "loss: 2.779034  [35200/50000]\n",
            "loss: 2.823058  [38400/50000]\n",
            "loss: 3.261700  [41600/50000]\n",
            "loss: 2.393447  [44800/50000]\n",
            "loss: 2.881169  [48000/50000]\n",
            "Evaluation Error: \n",
            " Accuracy: 29.8%, Avg loss: 2.807131 \n",
            "\n",
            "Epoch 3\n",
            "-------------------------------\n",
            "loss: 3.059853  [    0/50000]\n",
            "loss: 3.314073  [ 3200/50000]\n",
            "loss: 3.188305  [ 6400/50000]\n",
            "loss: 2.661706  [ 9600/50000]\n",
            "loss: 2.455769  [12800/50000]\n",
            "loss: 2.812078  [16000/50000]\n",
            "loss: 2.592462  [19200/50000]\n",
            "loss: 3.175594  [22400/50000]\n",
            "loss: 2.461410  [25600/50000]\n",
            "loss: 2.696186  [28800/50000]\n",
            "loss: 2.410425  [32000/50000]\n",
            "loss: 2.448699  [35200/50000]\n",
            "loss: 2.528905  [38400/50000]\n",
            "loss: 3.019074  [41600/50000]\n",
            "loss: 2.085265  [44800/50000]\n",
            "loss: 2.729342  [48000/50000]\n",
            "Evaluation Error: \n",
            " Accuracy: 34.5%, Avg loss: 2.631410 \n",
            "\n",
            "Epoch 4\n",
            "-------------------------------\n",
            "loss: 2.950404  [    0/50000]\n",
            "loss: 3.149934  [ 3200/50000]\n",
            "loss: 3.050962  [ 6400/50000]\n",
            "loss: 2.390726  [ 9600/50000]\n",
            "loss: 2.488260  [12800/50000]\n",
            "loss: 2.455230  [16000/50000]\n",
            "loss: 2.202735  [19200/50000]\n",
            "loss: 3.007233  [22400/50000]\n",
            "loss: 2.222575  [25600/50000]\n",
            "loss: 2.470845  [28800/50000]\n",
            "loss: 2.293658  [32000/50000]\n",
            "loss: 2.548505  [35200/50000]\n",
            "loss: 2.367389  [38400/50000]\n",
            "loss: 2.768115  [41600/50000]\n",
            "loss: 2.002014  [44800/50000]\n",
            "loss: 2.697461  [48000/50000]\n",
            "Evaluation Error: \n",
            " Accuracy: 35.8%, Avg loss: 2.547361 \n",
            "\n",
            "Epoch 5\n",
            "-------------------------------\n",
            "loss: 2.671603  [    0/50000]\n",
            "loss: 3.102974  [ 3200/50000]\n",
            "loss: 2.808321  [ 6400/50000]\n",
            "loss: 2.141873  [ 9600/50000]\n",
            "loss: 2.167564  [12800/50000]\n",
            "loss: 2.332450  [16000/50000]\n",
            "loss: 2.121402  [19200/50000]\n",
            "loss: 2.912661  [22400/50000]\n",
            "loss: 2.049292  [25600/50000]\n",
            "loss: 2.305811  [28800/50000]\n",
            "loss: 2.100874  [32000/50000]\n",
            "loss: 2.573517  [35200/50000]\n",
            "loss: 1.997539  [38400/50000]\n",
            "loss: 2.546118  [41600/50000]\n",
            "loss: 1.735416  [44800/50000]\n",
            "loss: 2.520471  [48000/50000]\n",
            "Evaluation Error: \n",
            " Accuracy: 36.7%, Avg loss: 2.516235 \n",
            "\n",
            "Saving the model to submission_logs/model.pt\n",
            "Evaluating on the test set\n",
            "Evaluation Error: \n",
            " Accuracy: 37.2%, Avg loss: 2.529886 \n",
            "\n",
            "Parameter count: 311684\n",
            "Training steps: 7815\n"
          ]
        }
      ],
      "source": [
        "from dl_pytorch.hparams import HP as hp_base\n",
        "\n",
        "model = run_training(hp_base, NeuralNetwork, \"model\")\n",
        "eval_on_test(hp_base, model, \"model\")"
      ]
    },
    {
      "cell_type": "code",
      "execution_count": 44,
      "metadata": {
        "colab": {
          "base_uri": "https://localhost:8080/"
        },
        "id": "X8dyVSsfpjHv",
        "outputId": "e5c4135b-b73f-4191-c212-bddfd38711d8"
      },
      "outputs": [
        {
          "output_type": "stream",
          "name": "stdout",
          "text": [
            "Hyperparameters: Namespace(batch_size=32, lr=0.001, momentum=0.9, lr_decay=0.99, optim_type='adam', l2_reg=0.0, epochs=5, do_batchnorm=True, p_dropout=0.2)\n",
            "Epoch 1\n",
            "-------------------------------\n",
            "loss: 4.662846  [    0/50000]\n",
            "loss: 4.114068  [ 3200/50000]\n",
            "loss: 3.879408  [ 6400/50000]\n",
            "loss: 3.589612  [ 9600/50000]\n",
            "loss: 3.272174  [12800/50000]\n",
            "loss: 3.711957  [16000/50000]\n",
            "loss: 3.121399  [19200/50000]\n",
            "loss: 3.662117  [22400/50000]\n",
            "loss: 3.215035  [25600/50000]\n",
            "loss: 3.494321  [28800/50000]\n",
            "loss: 3.178165  [32000/50000]\n",
            "loss: 2.939664  [35200/50000]\n",
            "loss: 2.762621  [38400/50000]\n",
            "loss: 3.113016  [41600/50000]\n",
            "loss: 3.026769  [44800/50000]\n",
            "loss: 2.846575  [48000/50000]\n",
            "Evaluation Error: \n",
            " Accuracy: 29.7%, Avg loss: 2.806186 \n",
            "\n",
            "Epoch 2\n",
            "-------------------------------\n",
            "loss: 3.229989  [    0/50000]\n",
            "loss: 3.013874  [ 3200/50000]\n",
            "loss: 3.279917  [ 6400/50000]\n",
            "loss: 2.794817  [ 9600/50000]\n",
            "loss: 2.387193  [12800/50000]\n",
            "loss: 2.969257  [16000/50000]\n",
            "loss: 2.740277  [19200/50000]\n",
            "loss: 3.070149  [22400/50000]\n",
            "loss: 2.463041  [25600/50000]\n",
            "loss: 2.778175  [28800/50000]\n",
            "loss: 2.648681  [32000/50000]\n",
            "loss: 2.709301  [35200/50000]\n",
            "loss: 2.504194  [38400/50000]\n",
            "loss: 2.780640  [41600/50000]\n",
            "loss: 2.371051  [44800/50000]\n",
            "loss: 2.400120  [48000/50000]\n",
            "Evaluation Error: \n",
            " Accuracy: 35.3%, Avg loss: 2.540856 \n",
            "\n",
            "Epoch 3\n",
            "-------------------------------\n",
            "loss: 2.992943  [    0/50000]\n",
            "loss: 2.611540  [ 3200/50000]\n",
            "loss: 3.008342  [ 6400/50000]\n",
            "loss: 2.812944  [ 9600/50000]\n",
            "loss: 2.077520  [12800/50000]\n",
            "loss: 2.470367  [16000/50000]\n",
            "loss: 2.234286  [19200/50000]\n",
            "loss: 2.928430  [22400/50000]\n",
            "loss: 2.452241  [25600/50000]\n",
            "loss: 2.524936  [28800/50000]\n",
            "loss: 2.474467  [32000/50000]\n",
            "loss: 2.905632  [35200/50000]\n",
            "loss: 1.976845  [38400/50000]\n",
            "loss: 2.758885  [41600/50000]\n",
            "loss: 2.092972  [44800/50000]\n",
            "loss: 2.197425  [48000/50000]\n",
            "Evaluation Error: \n",
            " Accuracy: 38.9%, Avg loss: 2.382799 \n",
            "\n",
            "Epoch 4\n",
            "-------------------------------\n",
            "loss: 2.758154  [    0/50000]\n",
            "loss: 2.485750  [ 3200/50000]\n",
            "loss: 2.839429  [ 6400/50000]\n",
            "loss: 2.446545  [ 9600/50000]\n",
            "loss: 2.104118  [12800/50000]\n",
            "loss: 2.337349  [16000/50000]\n",
            "loss: 2.036638  [19200/50000]\n",
            "loss: 2.732912  [22400/50000]\n",
            "loss: 2.166130  [25600/50000]\n",
            "loss: 2.247543  [28800/50000]\n",
            "loss: 2.338391  [32000/50000]\n",
            "loss: 2.360738  [35200/50000]\n",
            "loss: 1.846154  [38400/50000]\n",
            "loss: 2.537292  [41600/50000]\n",
            "loss: 1.809416  [44800/50000]\n",
            "loss: 2.059195  [48000/50000]\n",
            "Evaluation Error: \n",
            " Accuracy: 39.7%, Avg loss: 2.354680 \n",
            "\n",
            "Epoch 5\n",
            "-------------------------------\n",
            "loss: 2.629144  [    0/50000]\n",
            "loss: 2.630885  [ 3200/50000]\n",
            "loss: 2.800155  [ 6400/50000]\n",
            "loss: 2.433742  [ 9600/50000]\n",
            "loss: 2.061255  [12800/50000]\n",
            "loss: 2.324744  [16000/50000]\n",
            "loss: 2.178308  [19200/50000]\n",
            "loss: 2.878290  [22400/50000]\n",
            "loss: 2.095984  [25600/50000]\n",
            "loss: 2.077429  [28800/50000]\n",
            "loss: 2.282115  [32000/50000]\n",
            "loss: 2.466441  [35200/50000]\n",
            "loss: 1.789520  [38400/50000]\n",
            "loss: 2.497069  [41600/50000]\n",
            "loss: 1.822072  [44800/50000]\n",
            "loss: 2.217778  [48000/50000]\n",
            "Evaluation Error: \n",
            " Accuracy: 41.3%, Avg loss: 2.278405 \n",
            "\n",
            "Saving the model to submission_logs/model_bn_drop.pt\n",
            "Evaluating on the test set\n",
            "Evaluation Error: \n",
            " Accuracy: 40.9%, Avg loss: 2.242264 \n",
            "\n",
            "Parameter count: 311908\n",
            "Training steps: 7815\n"
          ]
        }
      ],
      "source": [
        "from dl_pytorch.hparams_bn_drop import HP as hp_bn_drop\n",
        "\n",
        "model = run_training(hp_bn_drop, NeuralNetwork, \"model_bn_drop\")\n",
        "eval_on_test(hp_bn_drop, model, \"model_bn_drop\")"
      ]
    },
    {
      "cell_type": "markdown",
      "metadata": {
        "id": "zNGhm3HPpjHv"
      },
      "source": [
        "## Design your own neural network\n",
        "\n",
        "\n",
        "It's time to showcase your deep learning skills! In this assignment, you will be designing your own neural network using PyTorch. Your task is to **implement your neural network design in the files `dl_pytorch/my_model.py` and `dl_pytorch/hparams_my_model.py`**. The goal is to achieve a test accuracy of **44%** or higher.\n",
        "\n",
        "To ensure reproducibility and to maintain the focus of the assignment, please adhere to the following rules:\n",
        "\n",
        "1. Do not modify the code in the Jupyter Notebook cell or other cells that this cell depends on. It means that you cannot change data processing, the training loop, and the random seed. The emphasis of this assignment is on the model architecture and hyperparameter tuning.\n",
        "\n",
        "1. The number of model parameters must not exceed `1,000,000`.\n",
        "\n",
        "1. The total number of training steps should be no more than `20,000`.\n",
        "\n",
        "1. The maximum number of training epochs is `10`.\n",
        "\n",
        "1. Please refrain from using any pre-trained models or other downloaded assets.\n",
        "\n",
        "Your test accuracy will be displayed on the Gradescope leaderboard. Please note that your rank on the leaderboard does not affect your grade. In order to receive full credit for this part of the assignment, you only need to abide by the rules outlined above and achieve a minimum test accuracy of 44%. Your grade will be scaled linearly, with a score of 0 for a test accuracy of 38% and full credit for a test accuracy of 44% or higher."
      ]
    },
    {
      "cell_type": "code",
      "execution_count": 36,
      "metadata": {
        "colab": {
          "base_uri": "https://localhost:8080/"
        },
        "id": "7Y_TVYpKpjHw",
        "outputId": "5ce1802c-ff6e-407b-851d-e03391915487"
      },
      "outputs": [
        {
          "output_type": "stream",
          "name": "stdout",
          "text": [
            "Hyperparameters: Namespace(batch_size=128, lr=0.002, momentum=0.9, lr_decay=0.95, optim_type='adam', l2_reg=0.0, epochs=10, do_batchnorm=True, p_dropout=0.2)\n",
            "Epoch 1\n",
            "-------------------------------\n",
            "loss: 4.679676  [    0/50000]\n",
            "loss: 3.326557  [12800/50000]\n",
            "loss: 2.558361  [25600/50000]\n",
            "loss: 2.520237  [38400/50000]\n",
            "Evaluation Error: \n",
            " Accuracy: 34.9%, Avg loss: 2.547977 \n",
            "\n",
            "Epoch 2\n",
            "-------------------------------\n",
            "loss: 2.550080  [    0/50000]\n",
            "loss: 2.347459  [12800/50000]\n",
            "loss: 2.033722  [25600/50000]\n",
            "loss: 1.910624  [38400/50000]\n",
            "Evaluation Error: \n",
            " Accuracy: 41.3%, Avg loss: 2.269233 \n",
            "\n",
            "Epoch 3\n",
            "-------------------------------\n",
            "loss: 2.222437  [    0/50000]\n",
            "loss: 1.992286  [12800/50000]\n",
            "loss: 1.799487  [25600/50000]\n",
            "loss: 1.814539  [38400/50000]\n",
            "Evaluation Error: \n",
            " Accuracy: 45.5%, Avg loss: 2.106189 \n",
            "\n",
            "Epoch 4\n",
            "-------------------------------\n",
            "loss: 1.851951  [    0/50000]\n",
            "loss: 1.753968  [12800/50000]\n",
            "loss: 1.645844  [25600/50000]\n",
            "loss: 1.477895  [38400/50000]\n",
            "Evaluation Error: \n",
            " Accuracy: 48.8%, Avg loss: 1.946103 \n",
            "\n",
            "Epoch 5\n",
            "-------------------------------\n",
            "loss: 1.678751  [    0/50000]\n",
            "loss: 1.499754  [12800/50000]\n",
            "loss: 1.481631  [25600/50000]\n",
            "loss: 1.325215  [38400/50000]\n",
            "Evaluation Error: \n",
            " Accuracy: 49.3%, Avg loss: 1.936877 \n",
            "\n",
            "Epoch 6\n",
            "-------------------------------\n",
            "loss: 1.502754  [    0/50000]\n",
            "loss: 1.329615  [12800/50000]\n",
            "loss: 1.436135  [25600/50000]\n",
            "loss: 1.115198  [38400/50000]\n",
            "Evaluation Error: \n",
            " Accuracy: 49.1%, Avg loss: 1.938913 \n",
            "\n",
            "Epoch 7\n",
            "-------------------------------\n",
            "loss: 1.251611  [    0/50000]\n",
            "loss: 1.116787  [12800/50000]\n",
            "loss: 1.311396  [25600/50000]\n",
            "loss: 1.165102  [38400/50000]\n",
            "Evaluation Error: \n",
            " Accuracy: 49.6%, Avg loss: 1.933906 \n",
            "\n",
            "Epoch 8\n",
            "-------------------------------\n",
            "loss: 1.071884  [    0/50000]\n",
            "loss: 1.012263  [12800/50000]\n",
            "loss: 1.215724  [25600/50000]\n",
            "loss: 0.926373  [38400/50000]\n",
            "Evaluation Error: \n",
            " Accuracy: 51.4%, Avg loss: 1.901926 \n",
            "\n",
            "Epoch 9\n",
            "-------------------------------\n",
            "loss: 1.126155  [    0/50000]\n",
            "loss: 1.042719  [12800/50000]\n",
            "loss: 1.065789  [25600/50000]\n",
            "loss: 0.900804  [38400/50000]\n",
            "Evaluation Error: \n",
            " Accuracy: 50.0%, Avg loss: 1.994355 \n",
            "\n",
            "Epoch 10\n",
            "-------------------------------\n",
            "loss: 1.177235  [    0/50000]\n",
            "loss: 1.010605  [12800/50000]\n",
            "loss: 0.824614  [25600/50000]\n",
            "loss: 0.837304  [38400/50000]\n",
            "Evaluation Error: \n",
            " Accuracy: 51.3%, Avg loss: 1.923420 \n",
            "\n",
            "Saving the model to submission_logs/model_my_model.pt\n"
          ]
        }
      ],
      "source": [
        "from dl_pytorch.my_model import MyNeuralNetwork\n",
        "from dl_pytorch.hparams_my_model import HP as hp_my_model\n",
        "\n",
        "model = run_training(hp_my_model, MyNeuralNetwork, \"model_my_model\")"
      ]
    },
    {
      "cell_type": "code",
      "execution_count": 37,
      "metadata": {
        "colab": {
          "base_uri": "https://localhost:8080/"
        },
        "id": "rAJVb8ilpjHw",
        "outputId": "4cac5d6c-02fa-4cf7-c4b7-9aba0876a976"
      },
      "outputs": [
        {
          "output_type": "stream",
          "name": "stdout",
          "text": [
            "Evaluating on the test set\n",
            "Evaluation Error: \n",
            " Accuracy: 53.2%, Avg loss: 1.821630 \n",
            "\n",
            "Parameter count: 859552\n",
            "Training steps: 3910\n"
          ]
        }
      ],
      "source": [
        "# When you are ready to eval on test set, run this cell\n",
        "# WARNING: In real-world applications, it is a bad practice to evaluate\n",
        "#          frequently on the test set because the model will then perform poorly\n",
        "#          on new, unseen data even if it achieves a high test accuracy.\n",
        "eval_on_test(hp_my_model, model, \"model_my_model\")"
      ]
    },
    {
      "cell_type": "markdown",
      "metadata": {
        "collapsed": false,
        "id": "-vwwTiDZpjHw"
      },
      "source": [
        "For my implementation, I started by deciding the largest batch size possible I can use to stabilize training as I noticed flactuations in the loss. Afterwards, I started experimenting with the final connected layer as I thought we might be extracting enough features but the width of the final FCN was not enough to infer the 100 classes. I experemented with diffrent widths/depths and the best performance was given by two-layer FCN with width of 356 (Increased from 256). I added afterwards an l2 regualrization of 1e-3 to combat overfitting, which helped in having a test accuracy more than training accuracy.  For the convolutional layers I increased the number of filters to extract more features as distinguishing between 100 classes needs many more features, I increased the number of channels as we got deeper, as more complex patterns at later layers of the convNet need more features (channels).\n",
        "\n",
        "\n",
        "\n",
        "## Important:\n",
        "1. Adding batch in the FNC improved perfromance drastically.\n",
        "2. Even with no l2 regularization I had no overfitting since I'm using both dropout and BN.\n",
        "3. I should experiment with weight decay and lr.\n",
        "4. using max-pool instead of stride, proved to yield way better results for the last layer."
      ]
    }
  ],
  "metadata": {
    "accelerator": "GPU",
    "colab": {
      "gpuType": "T4",
      "provenance": []
    },
    "kernelspec": {
      "display_name": "Python 3",
      "name": "python3"
    },
    "language_info": {
      "name": "python"
    }
  },
  "nbformat": 4,
  "nbformat_minor": 0
}